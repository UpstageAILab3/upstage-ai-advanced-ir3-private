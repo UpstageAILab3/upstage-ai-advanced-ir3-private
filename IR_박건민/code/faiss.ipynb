{
 "cells": [
  {
   "cell_type": "code",
   "execution_count": 1,
   "metadata": {},
   "outputs": [
    {
     "name": "stderr",
     "output_type": "stream",
     "text": [
      "/opt/conda/lib/python3.10/site-packages/tqdm/auto.py:21: TqdmWarning: IProgress not found. Please update jupyter and ipywidgets. See https://ipywidgets.readthedocs.io/en/stable/user_install.html\n",
      "  from .autonotebook import tqdm as notebook_tqdm\n"
     ]
    }
   ],
   "source": [
    "import os\n",
    "import json\n",
    "from sentence_transformers import SentenceTransformer\n",
    "import numpy as np\n",
    "from openai import OpenAI\n"
   ]
  },
  {
   "cell_type": "code",
   "execution_count": 2,
   "metadata": {},
   "outputs": [],
   "source": [
    "client = OpenAI(\n",
    "    api_key=\"up_OZFOByunbTwITSBgJGCeW64CesvMo\",\n",
    "    base_url=\"https://api.upstage.ai/v1/solar\"\n",
    "    )"
   ]
  },
  {
   "cell_type": "code",
   "execution_count": 15,
   "metadata": {},
   "outputs": [],
   "source": [
    "query_result = client.embeddings.create(\n",
    "    model = \"embedding-query\",\n",
    "    input = \"나무의 분류에 대해 조사해 보는 방법\"\n",
    ").data[0].embedding\n",
    " \n",
    "document_result = client.embeddings.create(\n",
    "    model = \"embedding-query\",\n",
    "    input = \"과학자들은 새로 발견된 생물체를 분류하기 위해 철저한 조사를 진행합니다. 이 조사 과정에서 생물체의 구조, DNA, 그리고 생활사를 상세히 분석합니다. 이러한 연구 결과는 과학적 지식을 수정할 가능성이 높습니다. 과학자들은 이러한 연구를 통해 새로운 종을 발견하거나 기존의 분류 체계를 개선할 수 있습니다. 이러한 연구는 생물 다양성을 이해하고 보존하는 데에도 큰 도움이 됩니다. 과학자들은 이러한 연구를 통해 우리가 아직 알지 못하는 생물체들의 비밀을 해독하고, 자연의 다양성을 탐구하는 데에 기여하고 있습니다. 따라서, 과학자들의 연구는 우리에게 많은 통찰력을 제공하며, 과학적 지식을 더욱 발전시키는 역할을 합니다.\"\n",
    ").data[0].embedding"
   ]
  },
  {
   "cell_type": "code",
   "execution_count": 16,
   "metadata": {},
   "outputs": [
    {
     "name": "stdout",
     "output_type": "stream",
     "text": [
      "Similarity between query and document: 0.44473595243073305\n"
     ]
    }
   ],
   "source": [
    "similarity = np.dot(np.array(query_result), np.array(document_result))\n",
    "print(f\"Similarity between query and document: {similarity}\")"
   ]
  },
  {
   "cell_type": "code",
   "execution_count": null,
   "metadata": {},
   "outputs": [],
   "source": []
  }
 ],
 "metadata": {
  "kernelspec": {
   "display_name": "base",
   "language": "python",
   "name": "python3"
  },
  "language_info": {
   "codemirror_mode": {
    "name": "ipython",
    "version": 3
   },
   "file_extension": ".py",
   "mimetype": "text/x-python",
   "name": "python",
   "nbconvert_exporter": "python",
   "pygments_lexer": "ipython3",
   "version": "3.10.13"
  }
 },
 "nbformat": 4,
 "nbformat_minor": 2
}
